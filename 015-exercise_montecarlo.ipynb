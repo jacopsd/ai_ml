{
 "cells": [
  {
   "cell_type": "markdown",
   "metadata": {},
   "source": [
    "## Oefening Monte Carlo simulatie\n",
    "\n",
    "Op een PCB gebruikt een bedrijf een schakeling van vier condensatoren in serie.  \n",
    "\n",
    "Zoals gekend kan de vervangcapaciteit berekend worden als: \n",
    "\n",
    "$$\n",
    "\\frac{1}{C_t} = \\frac{1}{C_1} + \\frac{1}{C_2} + \\frac{1}{C_3} + \\frac{1}{C_4}\n",
    "$$\n",
    "\n",
    "Bij een totale spanning van $V_t$ over de condenatoren kan de spanning over een individuele condensator als volgt berekend worden:\n",
    "\n",
    "$$\n",
    "V_x = \\frac{C_t}{C_x}V_t\n",
    "$$\n",
    "\n",
    "De totale spanning is 10,6 V. Indien de vier condensatoren dezelfde capaciteit hebben, verdeelt de spanning zich gelijkmatig en staat over elke condensator een spanning van 2,65 V. Echter: het productieproces van de condensatoren zorgt voor een gaussiaanse verdeling van de capaciteiten met een gemiddelde van 15,9 F en een standaarddeviatie van 0,4985 F. Indien over een condensator een spanning komt te staan van meer dan 2,7 V ontstaat een risico op lekken en het falen van de PCB. \n",
    "\n",
    "Bereken via een Monte-Carlo simulatie het percentage van de schakelingen (van 4 condensatoren) waarbij over minstens één condensator een spanning komt te staan van > 2,7 V. \n",
    "\n",
    "Gebruik de volgend parametewaarden:"
   ]
  },
  {
   "cell_type": "code",
   "execution_count": 2,
   "metadata": {},
   "outputs": [],
   "source": [
    "# parameters\n",
    "condensators = 4\n",
    "avg = 15.9\n",
    "sigma = 0.4985\n",
    "samplesize = 100000 # simuleer met 100.000 x 4 condensatoren. \n",
    "V_tot = 10.6\n",
    "threshold = 2.7"
   ]
  },
  {
   "cell_type": "markdown",
   "metadata": {},
   "source": [
    "Teken tenslotte het histogram van de maximale spanning (na hoofdstuk \"End-to-end machine learning\")"
   ]
  }
 ],
 "metadata": {
  "interpreter": {
   "hash": "ac59ebe37160ed0dfa835113d9b8498d9f09ceb179beaac4002f036b9467c963"
  },
  "kernelspec": {
   "display_name": "Python 3.9.12 64-bit",
   "language": "python",
   "name": "python3"
  },
  "language_info": {
   "codemirror_mode": {
    "name": "ipython",
    "version": 3
   },
   "file_extension": ".py",
   "mimetype": "text/x-python",
   "name": "python",
   "nbconvert_exporter": "python",
   "pygments_lexer": "ipython3",
   "version": "3.9.12"
  },
  "orig_nbformat": 4
 },
 "nbformat": 4,
 "nbformat_minor": 2
}
