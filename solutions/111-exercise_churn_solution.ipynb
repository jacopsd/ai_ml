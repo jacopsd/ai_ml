{
  "cells": [
    {
      "cell_type": "markdown",
      "metadata": {
        "id": "sKkJxTKxriAC"
      },
      "source": [
        "# Churn problem \n",
        "\n",
        "A bank is investigating a very high rate of customer leaving the bank. Here is a 10.000 records dataset to investigate and predict which of the customers are more likely to leave the bank soon."
      ]
    },
    {
      "cell_type": "code",
      "execution_count": 1,
      "metadata": {
        "colab": {
          "base_uri": "https://localhost:8080/"
        },
        "id": "qz-EnOORrhEb",
        "outputId": "8e2bcb32-015d-463d-c9aa-0a541238c5de"
      },
      "outputs": [],
      "source": [
        "# Importing the necessary packages\n",
        "import numpy as np                                  # \"Scientific computing\"\n",
        "import scipy.stats as stats                         # Statistical tests\n",
        "\n",
        "import pandas as pd                                 # Data Frame\n",
        "from pandas.api.types import CategoricalDtype\n",
        "\n",
        "import matplotlib.pyplot as plt                     # Basic visualisation\n",
        "import seaborn as sns                               # Advanced data visualisation\n",
        "\n",
        "%matplotlib inline"
      ]
    },
    {
      "cell_type": "markdown",
      "metadata": {
        "id": "t5wkD-a9uzhg"
      },
      "source": [
        "Read the file Churn_Modelling.csv.  \n",
        "Show the first few records."
      ]
    },
    {
      "cell_type": "code",
      "execution_count": 2,
      "metadata": {
        "colab": {
          "base_uri": "https://localhost:8080/",
          "height": 206
        },
        "id": "D2NiiqSsulls",
        "outputId": "3a75ba68-29a6-4a5c-ed4f-c06561309d44"
      },
      "outputs": [
        {
          "data": {
            "text/html": [
              "<div>\n",
              "<style scoped>\n",
              "    .dataframe tbody tr th:only-of-type {\n",
              "        vertical-align: middle;\n",
              "    }\n",
              "\n",
              "    .dataframe tbody tr th {\n",
              "        vertical-align: top;\n",
              "    }\n",
              "\n",
              "    .dataframe thead th {\n",
              "        text-align: right;\n",
              "    }\n",
              "</style>\n",
              "<table border=\"1\" class=\"dataframe\">\n",
              "  <thead>\n",
              "    <tr style=\"text-align: right;\">\n",
              "      <th></th>\n",
              "      <th>RowNumber</th>\n",
              "      <th>CustomerId</th>\n",
              "      <th>Surname</th>\n",
              "      <th>CreditScore</th>\n",
              "      <th>Geography</th>\n",
              "      <th>Gender</th>\n",
              "      <th>Age</th>\n",
              "      <th>Tenure</th>\n",
              "      <th>Balance</th>\n",
              "      <th>NumOfProducts</th>\n",
              "      <th>HasCrCard</th>\n",
              "      <th>IsActiveMember</th>\n",
              "      <th>EstimatedSalary</th>\n",
              "      <th>Exited</th>\n",
              "    </tr>\n",
              "  </thead>\n",
              "  <tbody>\n",
              "    <tr>\n",
              "      <th>0</th>\n",
              "      <td>1</td>\n",
              "      <td>15634602</td>\n",
              "      <td>Hargrave</td>\n",
              "      <td>619</td>\n",
              "      <td>France</td>\n",
              "      <td>Female</td>\n",
              "      <td>42</td>\n",
              "      <td>2</td>\n",
              "      <td>0.00</td>\n",
              "      <td>1</td>\n",
              "      <td>1</td>\n",
              "      <td>1</td>\n",
              "      <td>101348.88</td>\n",
              "      <td>1</td>\n",
              "    </tr>\n",
              "    <tr>\n",
              "      <th>1</th>\n",
              "      <td>2</td>\n",
              "      <td>15647311</td>\n",
              "      <td>Hill</td>\n",
              "      <td>608</td>\n",
              "      <td>Spain</td>\n",
              "      <td>Female</td>\n",
              "      <td>41</td>\n",
              "      <td>1</td>\n",
              "      <td>83807.86</td>\n",
              "      <td>1</td>\n",
              "      <td>0</td>\n",
              "      <td>1</td>\n",
              "      <td>112542.58</td>\n",
              "      <td>0</td>\n",
              "    </tr>\n",
              "    <tr>\n",
              "      <th>2</th>\n",
              "      <td>3</td>\n",
              "      <td>15619304</td>\n",
              "      <td>Onio</td>\n",
              "      <td>502</td>\n",
              "      <td>France</td>\n",
              "      <td>Female</td>\n",
              "      <td>42</td>\n",
              "      <td>8</td>\n",
              "      <td>159660.80</td>\n",
              "      <td>3</td>\n",
              "      <td>1</td>\n",
              "      <td>0</td>\n",
              "      <td>113931.57</td>\n",
              "      <td>1</td>\n",
              "    </tr>\n",
              "    <tr>\n",
              "      <th>3</th>\n",
              "      <td>4</td>\n",
              "      <td>15701354</td>\n",
              "      <td>Boni</td>\n",
              "      <td>699</td>\n",
              "      <td>France</td>\n",
              "      <td>Female</td>\n",
              "      <td>39</td>\n",
              "      <td>1</td>\n",
              "      <td>0.00</td>\n",
              "      <td>2</td>\n",
              "      <td>0</td>\n",
              "      <td>0</td>\n",
              "      <td>93826.63</td>\n",
              "      <td>0</td>\n",
              "    </tr>\n",
              "    <tr>\n",
              "      <th>4</th>\n",
              "      <td>5</td>\n",
              "      <td>15737888</td>\n",
              "      <td>Mitchell</td>\n",
              "      <td>850</td>\n",
              "      <td>Spain</td>\n",
              "      <td>Female</td>\n",
              "      <td>43</td>\n",
              "      <td>2</td>\n",
              "      <td>125510.82</td>\n",
              "      <td>1</td>\n",
              "      <td>1</td>\n",
              "      <td>1</td>\n",
              "      <td>79084.10</td>\n",
              "      <td>0</td>\n",
              "    </tr>\n",
              "  </tbody>\n",
              "</table>\n",
              "</div>"
            ],
            "text/plain": [
              "   RowNumber  CustomerId   Surname  CreditScore Geography  Gender  Age  \\\n",
              "0          1    15634602  Hargrave          619    France  Female   42   \n",
              "1          2    15647311      Hill          608     Spain  Female   41   \n",
              "2          3    15619304      Onio          502    France  Female   42   \n",
              "3          4    15701354      Boni          699    France  Female   39   \n",
              "4          5    15737888  Mitchell          850     Spain  Female   43   \n",
              "\n",
              "   Tenure    Balance  NumOfProducts  HasCrCard  IsActiveMember  \\\n",
              "0       2       0.00              1          1               1   \n",
              "1       1   83807.86              1          0               1   \n",
              "2       8  159660.80              3          1               0   \n",
              "3       1       0.00              2          0               0   \n",
              "4       2  125510.82              1          1               1   \n",
              "\n",
              "   EstimatedSalary  Exited  \n",
              "0        101348.88       1  \n",
              "1        112542.58       0  \n",
              "2        113931.57       1  \n",
              "3         93826.63       0  \n",
              "4         79084.10       0  "
            ]
          },
          "execution_count": 2,
          "metadata": {},
          "output_type": "execute_result"
        }
      ],
      "source": [
        "df = pd.read_csv('https://raw.githubusercontent.com/jdecorte/ai_ml/main/datasets/churn_modelling.csv')\n",
        "df.head()"
      ]
    },
    {
      "cell_type": "markdown",
      "metadata": {
        "id": "PoZMt4fBu_7R"
      },
      "source": [
        "What are the dimensions of the datasets?"
      ]
    },
    {
      "cell_type": "code",
      "execution_count": 3,
      "metadata": {
        "colab": {
          "base_uri": "https://localhost:8080/"
        },
        "id": "gu96SUXIvtVp",
        "outputId": "2771d8d7-1636-4b1b-9466-583bc713d4a2"
      },
      "outputs": [
        {
          "name": "stdout",
          "output_type": "stream",
          "text": [
            "Shape of DF: (10000, 14)\n"
          ]
        }
      ],
      "source": [
        "print(\"Shape of DF:\", df.shape)"
      ]
    },
    {
      "cell_type": "markdown",
      "metadata": {
        "id": "gRPEvj9Fz0v1"
      },
      "source": [
        "Is this a skewed dataset?"
      ]
    },
    {
      "cell_type": "code",
      "execution_count": 4,
      "metadata": {
        "colab": {
          "base_uri": "https://localhost:8080/"
        },
        "id": "fUVf9c2Pz4Fq",
        "outputId": "bddbb4bf-7ff6-4d9c-cc4d-e204cb5a3ae7"
      },
      "outputs": [
        {
          "data": {
            "text/plain": [
              "0    0.7963\n",
              "1    0.2037\n",
              "Name: Exited, dtype: float64"
            ]
          },
          "execution_count": 4,
          "metadata": {},
          "output_type": "execute_result"
        }
      ],
      "source": [
        "df['Exited'].value_counts(normalize=True)"
      ]
    },
    {
      "cell_type": "markdown",
      "metadata": {
        "id": "u_Okz9HpVwrs"
      },
      "source": [
        "Drop the columns RowNumber, CustomerId and Surname"
      ]
    },
    {
      "cell_type": "code",
      "execution_count": 5,
      "metadata": {
        "id": "COu29D2QVv49"
      },
      "outputs": [],
      "source": [
        "df = df.drop(['RowNumber', 'CustomerId', 'Surname'], axis = 1)"
      ]
    },
    {
      "cell_type": "markdown",
      "metadata": {
        "id": "6rwj9YHWWEKF"
      },
      "source": [
        "What are the different values for Geography?"
      ]
    },
    {
      "cell_type": "code",
      "execution_count": 6,
      "metadata": {
        "colab": {
          "base_uri": "https://localhost:8080/"
        },
        "id": "HjwJQqlsWCN4",
        "outputId": "8174727f-874e-40a8-a128-80ee7e404ae4"
      },
      "outputs": [
        {
          "data": {
            "text/plain": [
              "France     5014\n",
              "Germany    2509\n",
              "Spain      2477\n",
              "Name: Geography, dtype: int64"
            ]
          },
          "execution_count": 6,
          "metadata": {},
          "output_type": "execute_result"
        }
      ],
      "source": [
        "df['Geography'].value_counts()"
      ]
    },
    {
      "cell_type": "markdown",
      "metadata": {
        "id": "bgSmTrrTWedU"
      },
      "source": [
        "Use one-hot encoding to replace Gender and Geography."
      ]
    },
    {
      "cell_type": "code",
      "execution_count": 7,
      "metadata": {
        "colab": {
          "base_uri": "https://localhost:8080/",
          "height": 206
        },
        "id": "u9u3w17IWdvf",
        "outputId": "202b2a84-0b18-4bf7-fa3a-94b96b69ea1a"
      },
      "outputs": [
        {
          "data": {
            "text/html": [
              "<div>\n",
              "<style scoped>\n",
              "    .dataframe tbody tr th:only-of-type {\n",
              "        vertical-align: middle;\n",
              "    }\n",
              "\n",
              "    .dataframe tbody tr th {\n",
              "        vertical-align: top;\n",
              "    }\n",
              "\n",
              "    .dataframe thead th {\n",
              "        text-align: right;\n",
              "    }\n",
              "</style>\n",
              "<table border=\"1\" class=\"dataframe\">\n",
              "  <thead>\n",
              "    <tr style=\"text-align: right;\">\n",
              "      <th></th>\n",
              "      <th>CreditScore</th>\n",
              "      <th>Gender</th>\n",
              "      <th>Age</th>\n",
              "      <th>Tenure</th>\n",
              "      <th>Balance</th>\n",
              "      <th>NumOfProducts</th>\n",
              "      <th>HasCrCard</th>\n",
              "      <th>IsActiveMember</th>\n",
              "      <th>EstimatedSalary</th>\n",
              "      <th>Exited</th>\n",
              "      <th>Geography_France</th>\n",
              "      <th>Geography_Germany</th>\n",
              "      <th>Geography_Spain</th>\n",
              "    </tr>\n",
              "  </thead>\n",
              "  <tbody>\n",
              "    <tr>\n",
              "      <th>0</th>\n",
              "      <td>619</td>\n",
              "      <td>Female</td>\n",
              "      <td>42</td>\n",
              "      <td>2</td>\n",
              "      <td>0.00</td>\n",
              "      <td>1</td>\n",
              "      <td>1</td>\n",
              "      <td>1</td>\n",
              "      <td>101348.88</td>\n",
              "      <td>1</td>\n",
              "      <td>1</td>\n",
              "      <td>0</td>\n",
              "      <td>0</td>\n",
              "    </tr>\n",
              "    <tr>\n",
              "      <th>1</th>\n",
              "      <td>608</td>\n",
              "      <td>Female</td>\n",
              "      <td>41</td>\n",
              "      <td>1</td>\n",
              "      <td>83807.86</td>\n",
              "      <td>1</td>\n",
              "      <td>0</td>\n",
              "      <td>1</td>\n",
              "      <td>112542.58</td>\n",
              "      <td>0</td>\n",
              "      <td>0</td>\n",
              "      <td>0</td>\n",
              "      <td>1</td>\n",
              "    </tr>\n",
              "    <tr>\n",
              "      <th>2</th>\n",
              "      <td>502</td>\n",
              "      <td>Female</td>\n",
              "      <td>42</td>\n",
              "      <td>8</td>\n",
              "      <td>159660.80</td>\n",
              "      <td>3</td>\n",
              "      <td>1</td>\n",
              "      <td>0</td>\n",
              "      <td>113931.57</td>\n",
              "      <td>1</td>\n",
              "      <td>1</td>\n",
              "      <td>0</td>\n",
              "      <td>0</td>\n",
              "    </tr>\n",
              "    <tr>\n",
              "      <th>3</th>\n",
              "      <td>699</td>\n",
              "      <td>Female</td>\n",
              "      <td>39</td>\n",
              "      <td>1</td>\n",
              "      <td>0.00</td>\n",
              "      <td>2</td>\n",
              "      <td>0</td>\n",
              "      <td>0</td>\n",
              "      <td>93826.63</td>\n",
              "      <td>0</td>\n",
              "      <td>1</td>\n",
              "      <td>0</td>\n",
              "      <td>0</td>\n",
              "    </tr>\n",
              "    <tr>\n",
              "      <th>4</th>\n",
              "      <td>850</td>\n",
              "      <td>Female</td>\n",
              "      <td>43</td>\n",
              "      <td>2</td>\n",
              "      <td>125510.82</td>\n",
              "      <td>1</td>\n",
              "      <td>1</td>\n",
              "      <td>1</td>\n",
              "      <td>79084.10</td>\n",
              "      <td>0</td>\n",
              "      <td>0</td>\n",
              "      <td>0</td>\n",
              "      <td>1</td>\n",
              "    </tr>\n",
              "  </tbody>\n",
              "</table>\n",
              "</div>"
            ],
            "text/plain": [
              "   CreditScore  Gender  Age  Tenure    Balance  NumOfProducts  HasCrCard  \\\n",
              "0          619  Female   42       2       0.00              1          1   \n",
              "1          608  Female   41       1   83807.86              1          0   \n",
              "2          502  Female   42       8  159660.80              3          1   \n",
              "3          699  Female   39       1       0.00              2          0   \n",
              "4          850  Female   43       2  125510.82              1          1   \n",
              "\n",
              "   IsActiveMember  EstimatedSalary  Exited  Geography_France  \\\n",
              "0               1        101348.88       1                 1   \n",
              "1               1        112542.58       0                 0   \n",
              "2               0        113931.57       1                 1   \n",
              "3               0         93826.63       0                 1   \n",
              "4               1         79084.10       0                 0   \n",
              "\n",
              "   Geography_Germany  Geography_Spain  \n",
              "0                  0                0  \n",
              "1                  0                1  \n",
              "2                  0                0  \n",
              "3                  0                0  \n",
              "4                  0                1  "
            ]
          },
          "execution_count": 7,
          "metadata": {},
          "output_type": "execute_result"
        }
      ],
      "source": [
        "df = pd.get_dummies(df,prefix=['Geography'], columns = ['Geography'])\n",
        "df.head()"
      ]
    },
    {
      "cell_type": "code",
      "execution_count": 8,
      "metadata": {
        "colab": {
          "base_uri": "https://localhost:8080/",
          "height": 270
        },
        "id": "qfrkXeHSW4S9",
        "outputId": "294b1270-4bd3-4297-fb55-6bdcd1ac6593"
      },
      "outputs": [
        {
          "data": {
            "text/html": [
              "<div>\n",
              "<style scoped>\n",
              "    .dataframe tbody tr th:only-of-type {\n",
              "        vertical-align: middle;\n",
              "    }\n",
              "\n",
              "    .dataframe tbody tr th {\n",
              "        vertical-align: top;\n",
              "    }\n",
              "\n",
              "    .dataframe thead th {\n",
              "        text-align: right;\n",
              "    }\n",
              "</style>\n",
              "<table border=\"1\" class=\"dataframe\">\n",
              "  <thead>\n",
              "    <tr style=\"text-align: right;\">\n",
              "      <th></th>\n",
              "      <th>CreditScore</th>\n",
              "      <th>Age</th>\n",
              "      <th>Tenure</th>\n",
              "      <th>Balance</th>\n",
              "      <th>NumOfProducts</th>\n",
              "      <th>HasCrCard</th>\n",
              "      <th>IsActiveMember</th>\n",
              "      <th>EstimatedSalary</th>\n",
              "      <th>Exited</th>\n",
              "      <th>Geography_France</th>\n",
              "      <th>Geography_Germany</th>\n",
              "      <th>Geography_Spain</th>\n",
              "      <th>Gender_Female</th>\n",
              "      <th>Gender_Male</th>\n",
              "    </tr>\n",
              "  </thead>\n",
              "  <tbody>\n",
              "    <tr>\n",
              "      <th>0</th>\n",
              "      <td>619</td>\n",
              "      <td>42</td>\n",
              "      <td>2</td>\n",
              "      <td>0.00</td>\n",
              "      <td>1</td>\n",
              "      <td>1</td>\n",
              "      <td>1</td>\n",
              "      <td>101348.88</td>\n",
              "      <td>1</td>\n",
              "      <td>1</td>\n",
              "      <td>0</td>\n",
              "      <td>0</td>\n",
              "      <td>1</td>\n",
              "      <td>0</td>\n",
              "    </tr>\n",
              "    <tr>\n",
              "      <th>1</th>\n",
              "      <td>608</td>\n",
              "      <td>41</td>\n",
              "      <td>1</td>\n",
              "      <td>83807.86</td>\n",
              "      <td>1</td>\n",
              "      <td>0</td>\n",
              "      <td>1</td>\n",
              "      <td>112542.58</td>\n",
              "      <td>0</td>\n",
              "      <td>0</td>\n",
              "      <td>0</td>\n",
              "      <td>1</td>\n",
              "      <td>1</td>\n",
              "      <td>0</td>\n",
              "    </tr>\n",
              "    <tr>\n",
              "      <th>2</th>\n",
              "      <td>502</td>\n",
              "      <td>42</td>\n",
              "      <td>8</td>\n",
              "      <td>159660.80</td>\n",
              "      <td>3</td>\n",
              "      <td>1</td>\n",
              "      <td>0</td>\n",
              "      <td>113931.57</td>\n",
              "      <td>1</td>\n",
              "      <td>1</td>\n",
              "      <td>0</td>\n",
              "      <td>0</td>\n",
              "      <td>1</td>\n",
              "      <td>0</td>\n",
              "    </tr>\n",
              "    <tr>\n",
              "      <th>3</th>\n",
              "      <td>699</td>\n",
              "      <td>39</td>\n",
              "      <td>1</td>\n",
              "      <td>0.00</td>\n",
              "      <td>2</td>\n",
              "      <td>0</td>\n",
              "      <td>0</td>\n",
              "      <td>93826.63</td>\n",
              "      <td>0</td>\n",
              "      <td>1</td>\n",
              "      <td>0</td>\n",
              "      <td>0</td>\n",
              "      <td>1</td>\n",
              "      <td>0</td>\n",
              "    </tr>\n",
              "    <tr>\n",
              "      <th>4</th>\n",
              "      <td>850</td>\n",
              "      <td>43</td>\n",
              "      <td>2</td>\n",
              "      <td>125510.82</td>\n",
              "      <td>1</td>\n",
              "      <td>1</td>\n",
              "      <td>1</td>\n",
              "      <td>79084.10</td>\n",
              "      <td>0</td>\n",
              "      <td>0</td>\n",
              "      <td>0</td>\n",
              "      <td>1</td>\n",
              "      <td>1</td>\n",
              "      <td>0</td>\n",
              "    </tr>\n",
              "  </tbody>\n",
              "</table>\n",
              "</div>"
            ],
            "text/plain": [
              "   CreditScore  Age  Tenure    Balance  NumOfProducts  HasCrCard  \\\n",
              "0          619   42       2       0.00              1          1   \n",
              "1          608   41       1   83807.86              1          0   \n",
              "2          502   42       8  159660.80              3          1   \n",
              "3          699   39       1       0.00              2          0   \n",
              "4          850   43       2  125510.82              1          1   \n",
              "\n",
              "   IsActiveMember  EstimatedSalary  Exited  Geography_France  \\\n",
              "0               1        101348.88       1                 1   \n",
              "1               1        112542.58       0                 0   \n",
              "2               0        113931.57       1                 1   \n",
              "3               0         93826.63       0                 1   \n",
              "4               1         79084.10       0                 0   \n",
              "\n",
              "   Geography_Germany  Geography_Spain  Gender_Female  Gender_Male  \n",
              "0                  0                0              1            0  \n",
              "1                  0                1              1            0  \n",
              "2                  0                0              1            0  \n",
              "3                  0                0              1            0  \n",
              "4                  0                1              1            0  "
            ]
          },
          "execution_count": 8,
          "metadata": {},
          "output_type": "execute_result"
        }
      ],
      "source": [
        "df = pd.get_dummies(df,prefix=['Gender'], columns = ['Gender'])\n",
        "df.head()"
      ]
    },
    {
      "cell_type": "markdown",
      "metadata": {},
      "source": [
        "Make sure you understand this function. We will use is later on to evaluate the ANN."
      ]
    },
    {
      "cell_type": "code",
      "execution_count": 9,
      "metadata": {
        "id": "o_2arcO2yiR2"
      },
      "outputs": [],
      "source": [
        "def plot_history(history):\n",
        "  plt.figure(figsize = (12,4))\n",
        "  plt.subplot(1,2,1)\n",
        "\n",
        "  plt.xlabel('Epoch')\n",
        "  plt.ylabel('Accuracy')\n",
        "  plt.plot(history.epoch, np.array(history.history['accuracy']),'g-',\n",
        "           label='Train accuracy')\n",
        "  plt.plot(history.epoch, np.array(history.history['val_accuracy']),'r-',\n",
        "           label = 'Validation accuracy')\n",
        "  plt.legend()\n",
        "\n",
        "  plt.subplot(1,2,2)\n",
        "  plt.xlabel('Epoch')\n",
        "  plt.ylabel('Loss minimised by model')\n",
        "  plt.plot(history.epoch, np.array(history.history['loss']),'g-',\n",
        "           label='Train loss')\n",
        "  plt.plot(history.epoch, np.array(history.history['val_loss']),'r-',\n",
        "           label = 'Validation loss')\n",
        "  plt.legend()"
      ]
    },
    {
      "cell_type": "markdown",
      "metadata": {
        "id": "O3gSSfm9WkLQ"
      },
      "source": [
        "What is X and what is y?"
      ]
    },
    {
      "cell_type": "code",
      "execution_count": 10,
      "metadata": {
        "id": "Kr9_Xm8OJs8F"
      },
      "outputs": [],
      "source": [
        "X = df.drop([\"Exited\"], axis = 1)\n",
        "y = df['Exited']   "
      ]
    },
    {
      "cell_type": "markdown",
      "metadata": {
        "id": "s7n0sO0PWov_"
      },
      "source": [
        "What is X_train, y_train, X_test, y_test?"
      ]
    },
    {
      "cell_type": "code",
      "execution_count": 11,
      "metadata": {
        "id": "IA_DKfYRKsq3"
      },
      "outputs": [],
      "source": [
        "from sklearn.model_selection import train_test_split    \n",
        "X_train, X_test, y_train, y_test = train_test_split(X, y, test_size=0.2, random_state=42)  "
      ]
    },
    {
      "cell_type": "markdown",
      "metadata": {
        "id": "XCHe3JqRWrFX"
      },
      "source": [
        "What is X_train, y_train, X_val, y_val?"
      ]
    },
    {
      "cell_type": "code",
      "execution_count": 12,
      "metadata": {
        "id": "mrAdQRBHK0sH"
      },
      "outputs": [],
      "source": [
        "X_train, X_val, y_train, y_val = train_test_split(X_train, y_train, test_size=0.2, random_state=42)  "
      ]
    },
    {
      "cell_type": "markdown",
      "metadata": {
        "id": "u4ts-oEUWyMm"
      },
      "source": [
        "What are the dimensions of X_train, X_val, X_test, y_train, y_val, y_test?"
      ]
    },
    {
      "cell_type": "code",
      "execution_count": 13,
      "metadata": {
        "colab": {
          "base_uri": "https://localhost:8080/"
        },
        "id": "5xtda5DVK98F",
        "outputId": "2e2f2c58-eb4d-4ab0-8378-ca68f652f0af"
      },
      "outputs": [
        {
          "name": "stdout",
          "output_type": "stream",
          "text": [
            "Shape of x_train: (6400, 13)\n",
            "Shape of x_test: (2000, 13)\n",
            "Shape of x_val: (1600, 13)\n",
            "Shape of y_train: (6400,)\n",
            "Shape of y_test: (2000,)\n",
            "Shape of y_val: (1600,)\n"
          ]
        }
      ],
      "source": [
        "print(\"Shape of x_train:\", X_train.shape)\n",
        "print(\"Shape of x_test:\", X_test.shape)\n",
        "print(\"Shape of x_val:\", X_val.shape)\n",
        "print(\"Shape of y_train:\", y_train.shape)\n",
        "print(\"Shape of y_test:\", y_test.shape)\n",
        "print(\"Shape of y_val:\", y_val.shape)"
      ]
    },
    {
      "cell_type": "markdown",
      "metadata": {
        "id": "vL83lw5TXgSp"
      },
      "source": [
        "Standardize the data before providing it as training data.  \n",
        "You should only use the training data to fit the scaler transformation\n",
        "and use the same fitted object to transform the validation and test input\n",
        "data."
      ]
    },
    {
      "cell_type": "code",
      "execution_count": 14,
      "metadata": {
        "id": "7TgXTCmYLtat"
      },
      "outputs": [],
      "source": [
        "from sklearn.preprocessing import StandardScaler\n",
        "scaler = StandardScaler()\n",
        "scaler.fit(X_train)\n",
        "X_train_scaled = scaler.transform(X_train)\n",
        "X_val_scaled = scaler.transform(X_val)\n",
        "X_test_scaled = scaler.transform(X_test)"
      ]
    },
    {
      "cell_type": "code",
      "execution_count": 53,
      "metadata": {},
      "outputs": [],
      "source": [
        "# reset the model\n",
        "keras.backend.clear_session()\n",
        "np.random.seed(42)\n",
        "tf.random.set_seed(42)"
      ]
    },
    {
      "cell_type": "markdown",
      "metadata": {
        "id": "o4Le__cyMD7o"
      },
      "source": [
        "* First create a small ANN model.  \n",
        "* Add BatchNormalization\n",
        "* Add Dropout\n",
        "* Evaluate the results after each fine tuning.\n"
      ]
    },
    {
      "cell_type": "code",
      "execution_count": 54,
      "metadata": {},
      "outputs": [],
      "source": [
        "import tensorflow as tf\n",
        "from tensorflow import keras\n",
        "model = keras.models.Sequential()\n",
        "\n",
        "model.add(keras.layers.Dense(64, activation=\"relu\", input_dim = X_train_scaled.shape[1]))\n",
        "model.add(keras.layers.Dropout(rate=0.2))\n",
        "\n",
        "model.add(keras.layers.Dense(32, activation=\"relu\"))\n",
        "model.add(keras.layers.Dropout(rate=0.2))\n",
        "\n",
        "model.add(keras.layers.Dense(1, activation=\"sigmoid\"))"
      ]
    },
    {
      "cell_type": "code",
      "execution_count": 55,
      "metadata": {},
      "outputs": [],
      "source": [
        "model.compile(loss=\"binary_crossentropy\",\n",
        "              optimizer=\"adam\",\n",
        "              metrics=[\"accuracy\"])"
      ]
    },
    {
      "cell_type": "code",
      "execution_count": 56,
      "metadata": {},
      "outputs": [
        {
          "name": "stdout",
          "output_type": "stream",
          "text": [
            "Epoch 1/100\n",
            "200/200 [==============================] - 0s 1ms/step - loss: 0.4835 - accuracy: 0.7933 - val_loss: 0.4093 - val_accuracy: 0.8194\n",
            "Epoch 2/100\n",
            "200/200 [==============================] - 0s 825us/step - loss: 0.4329 - accuracy: 0.8170 - val_loss: 0.3913 - val_accuracy: 0.8350\n",
            "Epoch 3/100\n",
            "200/200 [==============================] - 0s 749us/step - loss: 0.4147 - accuracy: 0.8316 - val_loss: 0.3712 - val_accuracy: 0.8475\n",
            "Epoch 4/100\n",
            "200/200 [==============================] - 0s 755us/step - loss: 0.3963 - accuracy: 0.8342 - val_loss: 0.3578 - val_accuracy: 0.8569\n",
            "Epoch 5/100\n",
            "200/200 [==============================] - 0s 727us/step - loss: 0.3788 - accuracy: 0.8445 - val_loss: 0.3502 - val_accuracy: 0.8575\n",
            "Epoch 6/100\n",
            "200/200 [==============================] - 0s 738us/step - loss: 0.3746 - accuracy: 0.8470 - val_loss: 0.3444 - val_accuracy: 0.8637\n",
            "Epoch 7/100\n",
            "200/200 [==============================] - 0s 749us/step - loss: 0.3709 - accuracy: 0.8472 - val_loss: 0.3385 - val_accuracy: 0.8631\n",
            "Epoch 8/100\n",
            "200/200 [==============================] - 0s 725us/step - loss: 0.3637 - accuracy: 0.8509 - val_loss: 0.3425 - val_accuracy: 0.8631\n",
            "Epoch 9/100\n",
            "200/200 [==============================] - 0s 776us/step - loss: 0.3672 - accuracy: 0.8470 - val_loss: 0.3379 - val_accuracy: 0.8606\n",
            "Epoch 10/100\n",
            "200/200 [==============================] - 0s 742us/step - loss: 0.3591 - accuracy: 0.8512 - val_loss: 0.3340 - val_accuracy: 0.8631\n",
            "Epoch 11/100\n",
            "200/200 [==============================] - 0s 715us/step - loss: 0.3569 - accuracy: 0.8519 - val_loss: 0.3330 - val_accuracy: 0.8619\n",
            "Epoch 12/100\n",
            "200/200 [==============================] - 0s 722us/step - loss: 0.3560 - accuracy: 0.8500 - val_loss: 0.3328 - val_accuracy: 0.8644\n",
            "Epoch 13/100\n",
            "200/200 [==============================] - 0s 711us/step - loss: 0.3521 - accuracy: 0.8553 - val_loss: 0.3311 - val_accuracy: 0.8587\n",
            "Epoch 14/100\n",
            "200/200 [==============================] - 0s 745us/step - loss: 0.3516 - accuracy: 0.8567 - val_loss: 0.3312 - val_accuracy: 0.8600\n",
            "Epoch 15/100\n",
            "200/200 [==============================] - 0s 706us/step - loss: 0.3508 - accuracy: 0.8534 - val_loss: 0.3300 - val_accuracy: 0.8631\n",
            "Epoch 16/100\n",
            "200/200 [==============================] - 0s 772us/step - loss: 0.3445 - accuracy: 0.8584 - val_loss: 0.3292 - val_accuracy: 0.8612\n",
            "Epoch 17/100\n",
            "200/200 [==============================] - 0s 740us/step - loss: 0.3486 - accuracy: 0.8580 - val_loss: 0.3313 - val_accuracy: 0.8600\n",
            "Epoch 18/100\n",
            "200/200 [==============================] - 0s 729us/step - loss: 0.3492 - accuracy: 0.8584 - val_loss: 0.3285 - val_accuracy: 0.8619\n",
            "Epoch 19/100\n",
            "200/200 [==============================] - 0s 787us/step - loss: 0.3497 - accuracy: 0.8575 - val_loss: 0.3280 - val_accuracy: 0.8637\n",
            "Epoch 20/100\n",
            "200/200 [==============================] - 0s 732us/step - loss: 0.3444 - accuracy: 0.8581 - val_loss: 0.3282 - val_accuracy: 0.8619\n",
            "Epoch 21/100\n",
            "200/200 [==============================] - 0s 708us/step - loss: 0.3448 - accuracy: 0.8572 - val_loss: 0.3279 - val_accuracy: 0.8606\n",
            "Epoch 22/100\n",
            "200/200 [==============================] - 0s 714us/step - loss: 0.3398 - accuracy: 0.8627 - val_loss: 0.3274 - val_accuracy: 0.8600\n",
            "Epoch 23/100\n",
            "200/200 [==============================] - 0s 731us/step - loss: 0.3391 - accuracy: 0.8636 - val_loss: 0.3292 - val_accuracy: 0.8631\n",
            "Epoch 24/100\n",
            "200/200 [==============================] - 0s 727us/step - loss: 0.3390 - accuracy: 0.8591 - val_loss: 0.3290 - val_accuracy: 0.8606\n",
            "Epoch 25/100\n",
            "200/200 [==============================] - 0s 702us/step - loss: 0.3375 - accuracy: 0.8631 - val_loss: 0.3269 - val_accuracy: 0.8612\n",
            "Epoch 26/100\n",
            "200/200 [==============================] - 0s 701us/step - loss: 0.3410 - accuracy: 0.8605 - val_loss: 0.3280 - val_accuracy: 0.8625\n",
            "Epoch 27/100\n",
            "200/200 [==============================] - 0s 723us/step - loss: 0.3382 - accuracy: 0.8639 - val_loss: 0.3291 - val_accuracy: 0.8612\n",
            "Epoch 28/100\n",
            "200/200 [==============================] - 0s 718us/step - loss: 0.3389 - accuracy: 0.8620 - val_loss: 0.3297 - val_accuracy: 0.8631\n",
            "Epoch 29/100\n",
            "200/200 [==============================] - 0s 718us/step - loss: 0.3339 - accuracy: 0.8653 - val_loss: 0.3286 - val_accuracy: 0.8594\n",
            "Epoch 30/100\n",
            "200/200 [==============================] - 0s 701us/step - loss: 0.3389 - accuracy: 0.8605 - val_loss: 0.3272 - val_accuracy: 0.8612\n",
            "Epoch 31/100\n",
            "200/200 [==============================] - 0s 702us/step - loss: 0.3329 - accuracy: 0.8673 - val_loss: 0.3275 - val_accuracy: 0.8581\n",
            "Epoch 32/100\n",
            "200/200 [==============================] - 0s 707us/step - loss: 0.3342 - accuracy: 0.8623 - val_loss: 0.3277 - val_accuracy: 0.8625\n",
            "Epoch 33/100\n",
            "200/200 [==============================] - 0s 739us/step - loss: 0.3391 - accuracy: 0.8612 - val_loss: 0.3294 - val_accuracy: 0.8600\n",
            "Epoch 34/100\n",
            "200/200 [==============================] - 0s 756us/step - loss: 0.3324 - accuracy: 0.8659 - val_loss: 0.3284 - val_accuracy: 0.8594\n",
            "Epoch 35/100\n",
            "200/200 [==============================] - 0s 718us/step - loss: 0.3342 - accuracy: 0.8616 - val_loss: 0.3292 - val_accuracy: 0.8600\n"
          ]
        }
      ],
      "source": [
        "early_stopping_cb = keras.callbacks.EarlyStopping(patience=10,\n",
        "                                                  restore_best_weights=True)\n",
        "\n",
        "history = model.fit(X_train_scaled, y_train, epochs=100, batch_size=32,\n",
        "                    validation_data=(X_val_scaled, y_val),callbacks=[early_stopping_cb])"
      ]
    },
    {
      "cell_type": "code",
      "execution_count": 58,
      "metadata": {},
      "outputs": [
        {
          "data": {
            "image/png": "[encoded data removed]",
            "text/plain": [
              "<Figure size 864x288 with 2 Axes>"
            ]
          },
          "metadata": {
            "needs_background": "light"
          },
          "output_type": "display_data"
        }
      ],
      "source": [
        "plot_history(history)"
      ]
    },
    {
      "cell_type": "code",
      "execution_count": 57,
      "metadata": {},
      "outputs": [
        {
          "name": "stdout",
          "output_type": "stream",
          "text": [
            "63/63 [==============================] - 0s 643us/step - loss: 0.3371 - accuracy: 0.8655\n"
          ]
        },
        {
          "data": {
            "text/plain": [
              "[0.33706730604171753, 0.8654999732971191]"
            ]
          },
          "execution_count": 57,
          "metadata": {},
          "output_type": "execute_result"
        }
      ],
      "source": [
        "model.evaluate(X_test_scaled, y_test)"
      ]
    }
  ],
  "metadata": {
    "colab": {
      "collapsed_sections": [],
      "name": "Chapter 11 Exercise Churn Modelling Solution.ipynb",
      "provenance": []
    },
    "interpreter": {
      "hash": "11938c6bc6919ae2720b4d5011047913343b08a43b18698fd82dedb0d4417594"
    },
    "kernelspec": {
      "display_name": "Python 3.9.12 64-bit",
      "language": "python",
      "name": "python3"
    },
    "language_info": {
      "codemirror_mode": {
        "name": "ipython",
        "version": 3
      },
      "file_extension": ".py",
      "mimetype": "text/x-python",
      "name": "python",
      "nbconvert_exporter": "python",
      "pygments_lexer": "ipython3",
      "version": "3.9.12"
    }
  },
  "nbformat": 4,
  "nbformat_minor": 0
}
