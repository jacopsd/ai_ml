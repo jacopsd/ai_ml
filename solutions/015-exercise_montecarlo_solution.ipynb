{
 "cells": [
  {
   "cell_type": "markdown",
   "metadata": {},
   "source": [
    "## Oefening Monte Carlo simulatie\n",
    "\n",
    "Op een PCB gebruikt een bedrijf een schakeling van vier condensatoren in serie.  \n",
    "\n",
    "Zoals gekend kan de vervangcapaciteit berekend worden als: \n",
    "\n",
    "$$\n",
    "\\frac{1}{C_t} = \\frac{1}{C_1} + \\frac{1}{C_2} + \\frac{1}{C_3} + \\frac{1}{C_4}\n",
    "$$\n",
    "\n",
    "Bij een totale spanning van $V_t$ over de condenatoren kan de spanning over een individuele condensator als volgt berekend worden:\n",
    "\n",
    "$$\n",
    "V_x = \\frac{C_t}{C_x}V_t\n",
    "$$\n",
    "\n",
    "De totale spanning is 10,6 V. Indien de vier condensatoren dezelfde capaciteit hebben, verdeelt de spanning zich gelijkmatig en staat over elke condensator een spanning van 2,65 V. Echter: het productieproces van de condensatoren zorgt voor een gaussiaanse verdeling van de capaciteiten met een gemiddelde van 15,9 F en een standaarddeviatie van 0,4985 F. Indien over een condensator een spanning komt te staan van meer dan 2,7 V ontstaat een risico op lekken en het falen van de PCB. \n",
    "\n",
    "Bereken via een Monte-Carlo simulatie het percentage van de schakelingen (van 4 condensatoren) waarbij over minstens één condensator een spanning komt te staan van > 2,7 V. \n",
    "\n",
    "Gebruik de volgend parametewaarden:"
   ]
  },
  {
   "cell_type": "code",
   "execution_count": 2,
   "metadata": {},
   "outputs": [],
   "source": [
    "# parameters\n",
    "condensators = 4\n",
    "avg = 15.9\n",
    "sigma = 0.4985\n",
    "samplesize = 100000 # simuleer met 100.000 x 4 condensatoren. \n",
    "V_tot = 10.6\n",
    "threshold = 2.7"
   ]
  },
  {
   "cell_type": "code",
   "execution_count": 3,
   "metadata": {},
   "outputs": [
    {
     "name": "stdout",
     "output_type": "stream",
     "text": [
      "Percentage above threshold: 80.244 %\n"
     ]
    }
   ],
   "source": [
    "import sys\n",
    "import numpy as np\n",
    "\n",
    "\n",
    "def MaxVoltage(C,V_tot): \n",
    "    nominator = 0.0\n",
    "    for c in C:\n",
    "        nominator += 1/c\n",
    "\n",
    "    C_tot =  1/nominator\n",
    "    V = [C_tot/c * V_tot for c in C]\n",
    "    return max(V)\n",
    "\n",
    "\n",
    "samples = np.random.normal(loc=avg,scale=sigma,size=(samplesize,condensators))\n",
    "\n",
    "V_max = np.empty((0),dtype=float)\n",
    "for sample in samples:\n",
    "    V_max = np.r_[V_max,[MaxVoltage(sample,V_tot)]]\n",
    "\n",
    "V_max = np.sort(V_max)    \n",
    "\n",
    "print(f'Percentage above threshold: {(V_max > threshold).sum()*100/samplesize} %')\n",
    "\n",
    "\n"
   ]
  },
  {
   "cell_type": "code",
   "execution_count": 21,
   "metadata": {},
   "outputs": [
    {
     "data": {
      "image/png": "[encoded data removed]",
      "text/plain": [
       "<Figure size 432x288 with 1 Axes>"
      ]
     },
     "metadata": {
      "needs_background": "light"
     },
     "output_type": "display_data"
    }
   ],
   "source": [
    "%matplotlib inline\n",
    "import matplotlib as mpl\n",
    "import matplotlib.pyplot as plt\n",
    "mpl.rc('axes', labelsize=14)\n",
    "mpl.rc('xtick', labelsize=12)\n",
    "mpl.rc('ytick', labelsize=12)\n",
    "import pandas as pd\n",
    "V_max_df =  pd.DataFrame(V_max,columns=['Vmax'])\n",
    "V_max_df.hist(bins=200)\n",
    "plt.show()"
   ]
  },
  {
   "cell_type": "code",
   "execution_count": 23,
   "metadata": {},
   "outputs": [
    {
     "data": {
      "text/plain": [
       "(array([  21,   42,   88,  137,  202,  259,  347,  436,  572,  651,  797,\n",
       "         948, 1019, 1081, 1223, 1373, 1419, 1570, 1668, 1700, 1863, 1921,\n",
       "        1945, 2002, 2083, 2102, 2128, 2123, 2189, 2224, 2192, 2200, 2184,\n",
       "        2196, 2052, 2145, 2092, 1965, 1960, 1863, 1914, 1840, 1758, 1848,\n",
       "        1709, 1693, 1612, 1533, 1495, 1402, 1403, 1303, 1272, 1221, 1170,\n",
       "        1102, 1107, 1007,  941,  914,  888,  800,  816,  791,  743,  704,\n",
       "         631,  594,  564,  517,  508,  471,  466,  405,  412,  378,  344,\n",
       "         348,  284,  302,  285,  239,  241,  231,  199,  190,  146,  162,\n",
       "         177,  161,  143,  133,  125,  111,   85,   94,   87,   72,   80,\n",
       "          69,   61,   59,   64,   48,   42,   57,   28,   34,   29,   28,\n",
       "          37,   24,   26,   24,   16,   17,   19,   14,   17,    5,    9,\n",
       "          10,   11,    8,    9,    6,    6,    2,    7,   10,    1,    3,\n",
       "           5,    5,    3,    2,    3,    2,    2,    1,    2,    1,    2,\n",
       "           5,    2,    2,    0,    1,    1,    1,    0,    1,    0,    1,\n",
       "           1,    1,    0,    0,    0,    0,    0,    1,    0,    0,    1,\n",
       "           0,    0,    0,    0,    0,    0,    0,    0,    0,    0,    0,\n",
       "           0,    0,    0,    0,    0,    0,    0,    0,    0,    0,    0,\n",
       "           0,    0,    0,    0,    0,    0,    0,    0,    0,    0,    0,\n",
       "           0,    1], dtype=int64),\n",
       " array([2.65193766, 2.65410151, 2.65626535, 2.6584292 , 2.66059305,\n",
       "        2.6627569 , 2.66492074, 2.66708459, 2.66924844, 2.67141228,\n",
       "        2.67357613, 2.67573998, 2.67790382, 2.68006767, 2.68223152,\n",
       "        2.68439536, 2.68655921, 2.68872306, 2.6908869 , 2.69305075,\n",
       "        2.6952146 , 2.69737845, 2.69954229, 2.70170614, 2.70386999,\n",
       "        2.70603383, 2.70819768, 2.71036153, 2.71252537, 2.71468922,\n",
       "        2.71685307, 2.71901691, 2.72118076, 2.72334461, 2.72550846,\n",
       "        2.7276723 , 2.72983615, 2.732     , 2.73416384, 2.73632769,\n",
       "        2.73849154, 2.74065538, 2.74281923, 2.74498308, 2.74714692,\n",
       "        2.74931077, 2.75147462, 2.75363847, 2.75580231, 2.75796616,\n",
       "        2.76013001, 2.76229385, 2.7644577 , 2.76662155, 2.76878539,\n",
       "        2.77094924, 2.77311309, 2.77527693, 2.77744078, 2.77960463,\n",
       "        2.78176847, 2.78393232, 2.78609617, 2.78826002, 2.79042386,\n",
       "        2.79258771, 2.79475156, 2.7969154 , 2.79907925, 2.8012431 ,\n",
       "        2.80340694, 2.80557079, 2.80773464, 2.80989848, 2.81206233,\n",
       "        2.81422618, 2.81639003, 2.81855387, 2.82071772, 2.82288157,\n",
       "        2.82504541, 2.82720926, 2.82937311, 2.83153695, 2.8337008 ,\n",
       "        2.83586465, 2.83802849, 2.84019234, 2.84235619, 2.84452004,\n",
       "        2.84668388, 2.84884773, 2.85101158, 2.85317542, 2.85533927,\n",
       "        2.85750312, 2.85966696, 2.86183081, 2.86399466, 2.8661585 ,\n",
       "        2.86832235, 2.8704862 , 2.87265004, 2.87481389, 2.87697774,\n",
       "        2.87914159, 2.88130543, 2.88346928, 2.88563313, 2.88779697,\n",
       "        2.88996082, 2.89212467, 2.89428851, 2.89645236, 2.89861621,\n",
       "        2.90078005, 2.9029439 , 2.90510775, 2.9072716 , 2.90943544,\n",
       "        2.91159929, 2.91376314, 2.91592698, 2.91809083, 2.92025468,\n",
       "        2.92241852, 2.92458237, 2.92674622, 2.92891006, 2.93107391,\n",
       "        2.93323776, 2.93540161, 2.93756545, 2.9397293 , 2.94189315,\n",
       "        2.94405699, 2.94622084, 2.94838469, 2.95054853, 2.95271238,\n",
       "        2.95487623, 2.95704007, 2.95920392, 2.96136777, 2.96353161,\n",
       "        2.96569546, 2.96785931, 2.97002316, 2.972187  , 2.97435085,\n",
       "        2.9765147 , 2.97867854, 2.98084239, 2.98300624, 2.98517008,\n",
       "        2.98733393, 2.98949778, 2.99166162, 2.99382547, 2.99598932,\n",
       "        2.99815317, 3.00031701, 3.00248086, 3.00464471, 3.00680855,\n",
       "        3.0089724 , 3.01113625, 3.01330009, 3.01546394, 3.01762779,\n",
       "        3.01979163, 3.02195548, 3.02411933, 3.02628318, 3.02844702,\n",
       "        3.03061087, 3.03277472, 3.03493856, 3.03710241, 3.03926626,\n",
       "        3.0414301 , 3.04359395, 3.0457578 , 3.04792164, 3.05008549,\n",
       "        3.05224934, 3.05441318, 3.05657703, 3.05874088, 3.06090473,\n",
       "        3.06306857, 3.06523242, 3.06739627, 3.06956011, 3.07172396,\n",
       "        3.07388781, 3.07605165, 3.0782155 , 3.08037935, 3.08254319,\n",
       "        3.08470704]))"
      ]
     },
     "execution_count": 23,
     "metadata": {},
     "output_type": "execute_result"
    }
   ],
   "source": [
    "# getting data of the histogram\n",
    "count, bins_count = np.histogram(V_max, bins=200)\n",
    "count,bins_count\n"
   ]
  },
  {
   "cell_type": "code",
   "execution_count": 24,
   "metadata": {},
   "outputs": [
    {
     "data": {
      "text/plain": [
       "array([2.100e-04, 4.200e-04, 8.800e-04, 1.370e-03, 2.020e-03, 2.590e-03,\n",
       "       3.470e-03, 4.360e-03, 5.720e-03, 6.510e-03, 7.970e-03, 9.480e-03,\n",
       "       1.019e-02, 1.081e-02, 1.223e-02, 1.373e-02, 1.419e-02, 1.570e-02,\n",
       "       1.668e-02, 1.700e-02, 1.863e-02, 1.921e-02, 1.945e-02, 2.002e-02,\n",
       "       2.083e-02, 2.102e-02, 2.128e-02, 2.123e-02, 2.189e-02, 2.224e-02,\n",
       "       2.192e-02, 2.200e-02, 2.184e-02, 2.196e-02, 2.052e-02, 2.145e-02,\n",
       "       2.092e-02, 1.965e-02, 1.960e-02, 1.863e-02, 1.914e-02, 1.840e-02,\n",
       "       1.758e-02, 1.848e-02, 1.709e-02, 1.693e-02, 1.612e-02, 1.533e-02,\n",
       "       1.495e-02, 1.402e-02, 1.403e-02, 1.303e-02, 1.272e-02, 1.221e-02,\n",
       "       1.170e-02, 1.102e-02, 1.107e-02, 1.007e-02, 9.410e-03, 9.140e-03,\n",
       "       8.880e-03, 8.000e-03, 8.160e-03, 7.910e-03, 7.430e-03, 7.040e-03,\n",
       "       6.310e-03, 5.940e-03, 5.640e-03, 5.170e-03, 5.080e-03, 4.710e-03,\n",
       "       4.660e-03, 4.050e-03, 4.120e-03, 3.780e-03, 3.440e-03, 3.480e-03,\n",
       "       2.840e-03, 3.020e-03, 2.850e-03, 2.390e-03, 2.410e-03, 2.310e-03,\n",
       "       1.990e-03, 1.900e-03, 1.460e-03, 1.620e-03, 1.770e-03, 1.610e-03,\n",
       "       1.430e-03, 1.330e-03, 1.250e-03, 1.110e-03, 8.500e-04, 9.400e-04,\n",
       "       8.700e-04, 7.200e-04, 8.000e-04, 6.900e-04, 6.100e-04, 5.900e-04,\n",
       "       6.400e-04, 4.800e-04, 4.200e-04, 5.700e-04, 2.800e-04, 3.400e-04,\n",
       "       2.900e-04, 2.800e-04, 3.700e-04, 2.400e-04, 2.600e-04, 2.400e-04,\n",
       "       1.600e-04, 1.700e-04, 1.900e-04, 1.400e-04, 1.700e-04, 5.000e-05,\n",
       "       9.000e-05, 1.000e-04, 1.100e-04, 8.000e-05, 9.000e-05, 6.000e-05,\n",
       "       6.000e-05, 2.000e-05, 7.000e-05, 1.000e-04, 1.000e-05, 3.000e-05,\n",
       "       5.000e-05, 5.000e-05, 3.000e-05, 2.000e-05, 3.000e-05, 2.000e-05,\n",
       "       2.000e-05, 1.000e-05, 2.000e-05, 1.000e-05, 2.000e-05, 5.000e-05,\n",
       "       2.000e-05, 2.000e-05, 0.000e+00, 1.000e-05, 1.000e-05, 1.000e-05,\n",
       "       0.000e+00, 1.000e-05, 0.000e+00, 1.000e-05, 1.000e-05, 1.000e-05,\n",
       "       0.000e+00, 0.000e+00, 0.000e+00, 0.000e+00, 0.000e+00, 1.000e-05,\n",
       "       0.000e+00, 0.000e+00, 1.000e-05, 0.000e+00, 0.000e+00, 0.000e+00,\n",
       "       0.000e+00, 0.000e+00, 0.000e+00, 0.000e+00, 0.000e+00, 0.000e+00,\n",
       "       0.000e+00, 0.000e+00, 0.000e+00, 0.000e+00, 0.000e+00, 0.000e+00,\n",
       "       0.000e+00, 0.000e+00, 0.000e+00, 0.000e+00, 0.000e+00, 0.000e+00,\n",
       "       0.000e+00, 0.000e+00, 0.000e+00, 0.000e+00, 0.000e+00, 0.000e+00,\n",
       "       0.000e+00, 0.000e+00, 0.000e+00, 0.000e+00, 0.000e+00, 0.000e+00,\n",
       "       0.000e+00, 1.000e-05])"
      ]
     },
     "execution_count": 24,
     "metadata": {},
     "output_type": "execute_result"
    }
   ],
   "source": [
    "# finding the PDF (Probability Distribution Function) of the histogram using count values\n",
    "pdf = count / sum(count)\n",
    "pdf\n",
    "\n",
    "  \n"
   ]
  },
  {
   "cell_type": "code",
   "execution_count": 25,
   "metadata": {},
   "outputs": [
    {
     "data": {
      "text/plain": [
       "array([2.1000e-04, 6.3000e-04, 1.5100e-03, 2.8800e-03, 4.9000e-03,\n",
       "       7.4900e-03, 1.0960e-02, 1.5320e-02, 2.1040e-02, 2.7550e-02,\n",
       "       3.5520e-02, 4.5000e-02, 5.5190e-02, 6.6000e-02, 7.8230e-02,\n",
       "       9.1960e-02, 1.0615e-01, 1.2185e-01, 1.3853e-01, 1.5553e-01,\n",
       "       1.7416e-01, 1.9337e-01, 2.1282e-01, 2.3284e-01, 2.5367e-01,\n",
       "       2.7469e-01, 2.9597e-01, 3.1720e-01, 3.3909e-01, 3.6133e-01,\n",
       "       3.8325e-01, 4.0525e-01, 4.2709e-01, 4.4905e-01, 4.6957e-01,\n",
       "       4.9102e-01, 5.1194e-01, 5.3159e-01, 5.5119e-01, 5.6982e-01,\n",
       "       5.8896e-01, 6.0736e-01, 6.2494e-01, 6.4342e-01, 6.6051e-01,\n",
       "       6.7744e-01, 6.9356e-01, 7.0889e-01, 7.2384e-01, 7.3786e-01,\n",
       "       7.5189e-01, 7.6492e-01, 7.7764e-01, 7.8985e-01, 8.0155e-01,\n",
       "       8.1257e-01, 8.2364e-01, 8.3371e-01, 8.4312e-01, 8.5226e-01,\n",
       "       8.6114e-01, 8.6914e-01, 8.7730e-01, 8.8521e-01, 8.9264e-01,\n",
       "       8.9968e-01, 9.0599e-01, 9.1193e-01, 9.1757e-01, 9.2274e-01,\n",
       "       9.2782e-01, 9.3253e-01, 9.3719e-01, 9.4124e-01, 9.4536e-01,\n",
       "       9.4914e-01, 9.5258e-01, 9.5606e-01, 9.5890e-01, 9.6192e-01,\n",
       "       9.6477e-01, 9.6716e-01, 9.6957e-01, 9.7188e-01, 9.7387e-01,\n",
       "       9.7577e-01, 9.7723e-01, 9.7885e-01, 9.8062e-01, 9.8223e-01,\n",
       "       9.8366e-01, 9.8499e-01, 9.8624e-01, 9.8735e-01, 9.8820e-01,\n",
       "       9.8914e-01, 9.9001e-01, 9.9073e-01, 9.9153e-01, 9.9222e-01,\n",
       "       9.9283e-01, 9.9342e-01, 9.9406e-01, 9.9454e-01, 9.9496e-01,\n",
       "       9.9553e-01, 9.9581e-01, 9.9615e-01, 9.9644e-01, 9.9672e-01,\n",
       "       9.9709e-01, 9.9733e-01, 9.9759e-01, 9.9783e-01, 9.9799e-01,\n",
       "       9.9816e-01, 9.9835e-01, 9.9849e-01, 9.9866e-01, 9.9871e-01,\n",
       "       9.9880e-01, 9.9890e-01, 9.9901e-01, 9.9909e-01, 9.9918e-01,\n",
       "       9.9924e-01, 9.9930e-01, 9.9932e-01, 9.9939e-01, 9.9949e-01,\n",
       "       9.9950e-01, 9.9953e-01, 9.9958e-01, 9.9963e-01, 9.9966e-01,\n",
       "       9.9968e-01, 9.9971e-01, 9.9973e-01, 9.9975e-01, 9.9976e-01,\n",
       "       9.9978e-01, 9.9979e-01, 9.9981e-01, 9.9986e-01, 9.9988e-01,\n",
       "       9.9990e-01, 9.9990e-01, 9.9991e-01, 9.9992e-01, 9.9993e-01,\n",
       "       9.9993e-01, 9.9994e-01, 9.9994e-01, 9.9995e-01, 9.9996e-01,\n",
       "       9.9997e-01, 9.9997e-01, 9.9997e-01, 9.9997e-01, 9.9997e-01,\n",
       "       9.9997e-01, 9.9998e-01, 9.9998e-01, 9.9998e-01, 9.9999e-01,\n",
       "       9.9999e-01, 9.9999e-01, 9.9999e-01, 9.9999e-01, 9.9999e-01,\n",
       "       9.9999e-01, 9.9999e-01, 9.9999e-01, 9.9999e-01, 9.9999e-01,\n",
       "       9.9999e-01, 9.9999e-01, 9.9999e-01, 9.9999e-01, 9.9999e-01,\n",
       "       9.9999e-01, 9.9999e-01, 9.9999e-01, 9.9999e-01, 9.9999e-01,\n",
       "       9.9999e-01, 9.9999e-01, 9.9999e-01, 9.9999e-01, 9.9999e-01,\n",
       "       9.9999e-01, 9.9999e-01, 9.9999e-01, 9.9999e-01, 9.9999e-01,\n",
       "       9.9999e-01, 9.9999e-01, 9.9999e-01, 9.9999e-01, 1.0000e+00])"
      ]
     },
     "execution_count": 25,
     "metadata": {},
     "output_type": "execute_result"
    }
   ],
   "source": [
    "# using numpy np.cumsum to calculate the CDF\n",
    "cdf = np.cumsum(pdf)\n",
    "cdf\n",
    "  \n"
   ]
  },
  {
   "cell_type": "code",
   "execution_count": 31,
   "metadata": {},
   "outputs": [
    {
     "data": {
      "image/png": "[encoded data removed]",
      "text/plain": [
       "<Figure size 432x288 with 1 Axes>"
      ]
     },
     "metadata": {
      "needs_background": "light"
     },
     "output_type": "display_data"
    }
   ],
   "source": [
    "# plotting PDF and CDF\n",
    "mpl.rc('axes', labelsize=14)\n",
    "mpl.rc('xtick', labelsize=12)\n",
    "mpl.rc('ytick', labelsize=12)\n",
    "plt.plot(bins_count[1:], cdf, label=\"Cumulative Distribution of Vmax\")\n",
    "plt.legend()\n",
    "plt.grid()\n",
    "plt.show()"
   ]
  }
 ],
 "metadata": {
  "interpreter": {
   "hash": "ac59ebe37160ed0dfa835113d9b8498d9f09ceb179beaac4002f036b9467c963"
  },
  "kernelspec": {
   "display_name": "Python 3.9.12 64-bit",
   "language": "python",
   "name": "python3"
  },
  "language_info": {
   "codemirror_mode": {
    "name": "ipython",
    "version": 3
   },
   "file_extension": ".py",
   "mimetype": "text/x-python",
   "name": "python",
   "nbconvert_exporter": "python",
   "pygments_lexer": "ipython3",
   "version": "3.9.12"
  },
  "orig_nbformat": 4
 },
 "nbformat": 4,
 "nbformat_minor": 2
}
