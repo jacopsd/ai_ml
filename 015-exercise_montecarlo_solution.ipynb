{
 "cells": [
  {
   "cell_type": "markdown",
   "metadata": {},
   "source": [
    "## Monte Carlo simulatie\n",
    "\n",
    "Bij toestellen van het type TX-SKY-INTERFACE en TX-GO gebruikt partij Transics een schakeling van vier condensatoren in serie.  \n",
    "\n",
    "Zoals gekend kan de vervangcapaciteit berekend worden als: \n",
    "\n",
    "$$\n",
    "\\frac{1}{C_t} = \\frac{1}{C_1} + \\frac{1}{C_2} + \\frac{1}{C_3} + \\frac{1}{C_4}\n",
    "$$\n",
    "\n",
    "Bij een totale spanning van $V_t$ over de condenatoren kan de spanning over een individuele condensator als volgt berekend worden:\n",
    "\n",
    "$$\n",
    "V_x = \\frac{C_t}{C_x}V_t\n",
    "$$\n",
    "\n",
    "De totale spanning is 10,6 V. Indien de vier condensatoren dezelfde capaciteit hebben, verdeelt de spanning zich gelijkmatig en staat over elke condensator een spanning van 2,65 V. Echter: het productieproces van de condensatoren zorgt voor een gaussiaanse verdeling van de capaciteiten met een gemiddelde van 15,9 F en een standaarddeviatie van 0,4985 F. Indien over een condensator een spanning komt te staan van meer dan 2,7 V ontstaat een risico op lekken en het falen van de PCB. \n",
    "\n",
    "Onderstaande Python-notebook berekent via een Monte-Carlo simulatie het percentage van de schakelingen (van 4 condensatoren) waarbij over minstens één condensator een spanning komt te staan van > 2,7V. "
   ]
  },
  {
   "cell_type": "code",
   "execution_count": 14,
   "metadata": {},
   "outputs": [],
   "source": [
    "# parameters\n",
    "condensators = 4\n",
    "avg = 15.9\n",
    "sigma = 0.4985\n",
    "samplesize = 100000 # simuleer met 100.000 x 4 condensatoren. \n",
    "V_tot = 10.6\n",
    "threshold = 2.7"
   ]
  },
  {
   "cell_type": "code",
   "execution_count": 15,
   "metadata": {},
   "outputs": [
    {
     "name": "stdout",
     "output_type": "stream",
     "text": [
      "Totaal aantal samples van 4 condensatoren weerhouden: 100000\n",
      "Percentage boven drempel: 80.401 %\n"
     ]
    }
   ],
   "source": [
    "import sys\n",
    "import numpy as np\n",
    "\n",
    "def MaxVoltage(C,V_tot): \n",
    "    # determine maximum voltage for array of condensators en V_tot\n",
    "    nominator = 0.0\n",
    "    for c in C:\n",
    "        nominator += 1/c\n",
    "\n",
    "    C_tot =  1/nominator\n",
    "    V = [C_tot/c * V_tot for c in C]\n",
    "    return max(V)\n",
    "\n",
    "\n",
    "samples = np.random.normal(loc=avg,scale=sigma,size=(samplesize,condensators))\n",
    "n = 0\n",
    "V_max = np.empty((0),dtype=float)\n",
    "for sample in samples:\n",
    "\n",
    "    if (min(sample) >= 13.5) & (max(sample) <= 19.5):\n",
    "        n += 1\n",
    "        V_max = np.r_[V_max,[MaxVoltage(sample,V_tot)]]\n",
    "    else:\n",
    "        print(min(sample),max(sample))\n",
    "\n",
    "V_max = np.sort(V_max)    \n",
    "\n",
    "print(f'Totaal aantal samples van {condensators} condensatoren weerhouden: {n}')\n",
    "\n",
    "print(f'Percentage boven drempel: {(V_max > threshold).sum()*100/n} %')\n",
    "\n",
    "\n"
   ]
  },
  {
   "cell_type": "code",
   "execution_count": 16,
   "metadata": {},
   "outputs": [
    {
     "data": {
      "image/png": "[encoded data removed]",
      "text/plain": [
       "<Figure size 432x288 with 1 Axes>"
      ]
     },
     "metadata": {
      "needs_background": "light"
     },
     "output_type": "display_data"
    }
   ],
   "source": [
    "# plotting histogram\n",
    "%matplotlib inline\n",
    "import matplotlib as mpl\n",
    "import matplotlib.pyplot as plt\n",
    "mpl.rc('axes', labelsize=14)\n",
    "mpl.rc('xtick', labelsize=12)\n",
    "mpl.rc('ytick', labelsize=12)\n",
    "import pandas as pd\n",
    "V_max_df =  pd.DataFrame(V_max,columns=['Vmax'])\n",
    "V_max_df.hist(bins=200)\n",
    "plt.show()"
   ]
  },
  {
   "cell_type": "code",
   "execution_count": 17,
   "metadata": {},
   "outputs": [
    {
     "data": {
      "text/plain": [
       "(array([  14,   32,   55,   95,  137,  191,  225,  311,  407,  503,  571,\n",
       "         645,  709,  790,  880,  992, 1076, 1114, 1241, 1349], dtype=int64),\n",
       " array([2.65193126, 2.65381744, 2.65570363, 2.65758981, 2.65947599,\n",
       "        2.66136217, 2.66324835, 2.66513453, 2.66702072, 2.6689069 ,\n",
       "        2.67079308, 2.67267926, 2.67456544, 2.67645162, 2.67833781,\n",
       "        2.68022399, 2.68211017, 2.68399635, 2.68588253, 2.68776871]))"
      ]
     },
     "execution_count": 17,
     "metadata": {},
     "output_type": "execute_result"
    }
   ],
   "source": [
    "# getting data of the histogram\n",
    "count, bins_count = np.histogram(V_max, bins=200)\n",
    "count[:20],bins_count[:20]\n"
   ]
  },
  {
   "cell_type": "code",
   "execution_count": 18,
   "metadata": {},
   "outputs": [
    {
     "data": {
      "text/plain": [
       "array([0.00014, 0.00032, 0.00055, 0.00095, 0.00137, 0.00191, 0.00225,\n",
       "       0.00311, 0.00407, 0.00503, 0.00571, 0.00645, 0.00709, 0.0079 ,\n",
       "       0.0088 , 0.00992, 0.01076, 0.01114, 0.01241, 0.01349])"
      ]
     },
     "execution_count": 18,
     "metadata": {},
     "output_type": "execute_result"
    }
   ],
   "source": [
    "# finding the PDF (Probability Distribution Function) of the histogram using count values\n",
    "pdf = count / sum(count)\n",
    "pdf[:20]\n",
    "\n",
    "  \n"
   ]
  },
  {
   "cell_type": "code",
   "execution_count": 19,
   "metadata": {},
   "outputs": [
    {
     "data": {
      "text/plain": [
       "array([0.00014, 0.00046, 0.00101, 0.00196, 0.00333, 0.00524, 0.00749,\n",
       "       0.0106 , 0.01467, 0.0197 , 0.02541, 0.03186, 0.03895, 0.04685,\n",
       "       0.05565, 0.06557, 0.07633, 0.08747, 0.09988, 0.11337])"
      ]
     },
     "execution_count": 19,
     "metadata": {},
     "output_type": "execute_result"
    }
   ],
   "source": [
    "# using numpy np.cumsum to calculate the CDF\n",
    "cdf = np.cumsum(pdf)\n",
    "cdf[:20]\n",
    "  \n"
   ]
  },
  {
   "cell_type": "code",
   "execution_count": 20,
   "metadata": {},
   "outputs": [
    {
     "data": {
      "image/png": "[encoded data removed]",
      "text/plain": [
       "<Figure size 432x288 with 1 Axes>"
      ]
     },
     "metadata": {
      "needs_background": "light"
     },
     "output_type": "display_data"
    }
   ],
   "source": [
    "# plotting CDF\n",
    "mpl.rc('axes', labelsize=14)\n",
    "mpl.rc('xtick', labelsize=12)\n",
    "mpl.rc('ytick', labelsize=12)\n",
    "plt.plot(bins_count[1:], cdf, label=\"Cumulative Distribution of Vmax\")\n",
    "plt.legend()\n",
    "plt.grid()\n",
    "plt.show()"
   ]
  }
 ],
 "metadata": {
  "interpreter": {
   "hash": "ac59ebe37160ed0dfa835113d9b8498d9f09ceb179beaac4002f036b9467c963"
  },
  "kernelspec": {
   "display_name": "Python 3.9.12 64-bit",
   "language": "python",
   "name": "python3"
  },
  "language_info": {
   "codemirror_mode": {
    "name": "ipython",
    "version": 3
   },
   "file_extension": ".py",
   "mimetype": "text/x-python",
   "name": "python",
   "nbconvert_exporter": "python",
   "pygments_lexer": "ipython3",
   "version": "3.9.12"
  },
  "orig_nbformat": 4
 },
 "nbformat": 4,
 "nbformat_minor": 2
}
