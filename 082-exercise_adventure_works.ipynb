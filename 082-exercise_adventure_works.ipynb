{
  "cells": [
    {
      "cell_type": "markdown",
      "metadata": {
        "id": "cpyKTkHAkZUK"
      },
      "source": [
        "Use the data from the csv file adventureworks_assoc.csv.  Determine which items are often bought together when\n",
        "\n",
        "* “together” means “same order”\n",
        "* “together” means “same customer”\n",
        "\n",
        "Play around with the values for support and lift to limit the number of rules. \n"
      ]
    },
    {
      "cell_type": "code",
      "execution_count": null,
      "metadata": {
        "id": "uZJ1ktATkZUN",
        "outputId": "1839ed07-be2f-4053-ce62-d3bce665dee0"
      },
      "outputs": [
        {
          "data": {
            "text/plain": [
              "(32166, 4)"
            ]
          },
          "execution_count": 1,
          "metadata": {},
          "output_type": "execute_result"
        }
      ],
      "source": [
        "import pandas as pd\n",
        "url = 'https://raw.githubusercontent.com/jdecorte/ai_ml/main/datasets/adventureworks_assoc.csv'\n",
        "df = pd.read_csv(url,sep=';')\n",
        "df.shape"
      ]
    },
    {
      "cell_type": "code",
      "execution_count": null,
      "metadata": {
        "id": "VYIhf_I2kZUO"
      },
      "outputs": [],
      "source": [
        "df.head()"
      ]
    }
  ],
  "metadata": {
    "colab": {
      "name": "association_rules_exercise.ipynb",
      "provenance": []
    },
    "kernelspec": {
      "display_name": "Python 3",
      "name": "python3"
    },
    "language_info": {
      "codemirror_mode": {
        "name": "ipython",
        "version": 3
      },
      "file_extension": ".py",
      "mimetype": "text/x-python",
      "name": "python",
      "nbconvert_exporter": "python",
      "pygments_lexer": "ipython3",
      "version": "3.7.9-final"
    },
    "orig_nbformat": 2
  },
  "nbformat": 4,
  "nbformat_minor": 0
}
